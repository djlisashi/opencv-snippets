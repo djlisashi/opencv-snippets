{
 "cells": [
  {
   "cell_type": "markdown",
   "metadata": {},
   "source": [
    "# Introduction to OpenCV"
   ]
  },
  {
   "cell_type": "code",
   "execution_count": 3,
   "metadata": {},
   "outputs": [],
   "source": [
    "import numpy as np\n",
    "import cv2 as cv\n",
    "from matplotlib import pyplot as plt\n",
    "\n",
    "import ipywidgets as widgets\n",
    "from IPython.display import display\n",
    "from ipywidgets import interact, interact_manual"
   ]
  },
  {
   "cell_type": "code",
   "execution_count": null,
   "metadata": {},
   "outputs": [],
   "source": [
    "plt.rcParams[\"figure.figsize\"] = (15,7) # change the plot size of matplotlib"
   ]
  },
  {
   "cell_type": "code",
   "execution_count": null,
   "metadata": {},
   "outputs": [],
   "source": [
    "#ls"
   ]
  },
  {
   "cell_type": "code",
   "execution_count": null,
   "metadata": {},
   "outputs": [],
   "source": [
    "# Load a color image in grayscale\n",
    "img_gray = cv.imread('beach.JPG',0)    # this function does not throw an error if the path is not correct!\n",
    "# TODO: Add information about the flags cv.IMREAD_COLOR, cv.IMREAD_GRAYSCALE and cv.IMREAD_UNCHANGED "
   ]
  },
  {
   "cell_type": "markdown",
   "metadata": {},
   "source": [
    "## Displaying images"
   ]
  },
  {
   "cell_type": "code",
   "execution_count": null,
   "metadata": {},
   "outputs": [],
   "source": [
    "# Displaying an image in an image window. The window will be sized according to the image\n",
    "# Depending on the screen layout the window might be hidden behind your current working window!\n",
    "\n",
    "cv.imshow('image',img_gray)   # the first argument is the window name\n",
    "cv.waitKey(0)                 # the window will close after \"x\" milliseconds, if \"0\" it waits for any keystroke\n",
    "cv.destroyAllWindows() "
   ]
  },
  {
   "cell_type": "code",
   "execution_count": null,
   "metadata": {},
   "outputs": [],
   "source": [
    "# Displaying an image with matplotlib\n",
    "plt.imshow(img_gray, cmap = 'gray', interpolation = 'bicubic')      # TODO: explanation about interpolation\n",
    "#plt.xticks([]), plt.yticks([])                                     # to hide tick values on X and Y axis\n",
    "plt.show()"
   ]
  },
  {
   "cell_type": "markdown",
   "metadata": {},
   "source": [
    "## Writing images"
   ]
  },
  {
   "cell_type": "code",
   "execution_count": null,
   "metadata": {},
   "outputs": [],
   "source": [
    "cv.imwrite('beachgray.png',img_gray)    # first argument is name of image, second is image\n",
    "# TODO: Does cv.imwrite() overwrite exisiting files?\n",
    "# TODO: What are the supported file formats for saving images?"
   ]
  },
  {
   "cell_type": "markdown",
   "metadata": {},
   "source": [
    "## Creating binary images from grayscale image"
   ]
  },
  {
   "cell_type": "code",
   "execution_count": null,
   "metadata": {},
   "outputs": [],
   "source": [
    "# @interact                                     # running with interact is too slow\n",
    "@interact_manual\n",
    "def display_binary(thresh_val=(0,255,1)):\n",
    "    _,thresh1 = cv.threshold(img_gray, thresh_val, 255,cv.THRESH_BINARY)\n",
    "    plt.imshow(thresh1, cmap = 'gray', interpolation = 'bicubic') \n",
    "    plt.show()\n",
    "    return #thresh1; "
   ]
  },
  {
   "cell_type": "code",
   "execution_count": null,
   "metadata": {},
   "outputs": [],
   "source": [
    "thresh_val = 138\n",
    "_, img_binary = cv.threshold(img_gray, thresh_val, 255,cv.THRESH_BINARY)"
   ]
  },
  {
   "cell_type": "markdown",
   "metadata": {},
   "source": [
    "## 2D Convolution ( Image Filtering )"
   ]
  },
  {
   "cell_type": "code",
   "execution_count": null,
   "metadata": {},
   "outputs": [],
   "source": [
    "# when ddepth=-1, the output image will have the same depth as the source image\n",
    "kernel = np.ones((5,5),np.float32)/25\n",
    "target_img = cv.filter2D(img_gray,-1,kernel)            # image,ddepth, kernel\n",
    "plt.subplot(121),plt.imshow(img_gray, cmap = 'gray', interpolation = 'bicubic'),plt.title('Original')\n",
    "plt.subplot(122),plt.imshow(target_img, cmap = 'gray', interpolation = 'bicubic'), plt.title('Filtered')\n",
    "plt.show()"
   ]
  },
  {
   "cell_type": "markdown",
   "metadata": {},
   "source": [
    "##  Gaussian blur\n"
   ]
  },
  {
   "cell_type": "markdown",
   "metadata": {},
   "source": [
    "Gaussian blurring is highly effective for removing gaussian noise from images.\n",
    "The kernel size defines the dimensions of the blur. It has to be an **odd** number and minimum size is 3."
   ]
  },
  {
   "cell_type": "code",
   "execution_count": null,
   "metadata": {},
   "outputs": [],
   "source": [
    "@interact_manual\n",
    "def gaussian_blurred(kernel_size=(3,20,2)):\n",
    "    gray_blur = cv.GaussianBlur(img_gray, (kernel_size,kernel_size), 0) # img, (kernelsize,kernelsize), standard deviation\n",
    "    plt.subplot(121),plt.imshow(img_gray, cmap = 'gray', interpolation = 'bicubic'),plt.title('Original')\n",
    "    blur_title = \"Gaussian Blur - kernel size: \"+ str(kernel_size) \n",
    "    plt.subplot(122),plt.imshow(gray_blur, cmap = 'gray', interpolation = 'bicubic'), plt.title(blur_title)\n",
    "    plt.show()\n",
    "    return"
   ]
  },
  {
   "cell_type": "markdown",
   "metadata": {},
   "source": [
    "## Median blurring\n",
    "Median blurring is used to removesalt-and-pepper noise from images."
   ]
  },
  {
   "cell_type": "code",
   "execution_count": null,
   "metadata": {},
   "outputs": [],
   "source": [
    "# TODO: Create an image with salt-and-pepper noise.\n",
    "# TODO: Implement coding example for median blurring"
   ]
  },
  {
   "cell_type": "code",
   "execution_count": null,
   "metadata": {},
   "outputs": [],
   "source": [
    "!ls"
   ]
  },
  {
   "cell_type": "code",
   "execution_count": 4,
   "metadata": {},
   "outputs": [
    {
     "data": {
      "image/png": "[encoded data removed]",
      "text/plain": [
       "<matplotlib.figure.Figure at 0x45c805bcf8>"
      ]
     },
     "metadata": {
      "needs_background": "light"
     },
     "output_type": "display_data"
    },
    {
     "data": {
      "text/plain": [
       "(<matplotlib.image.AxesImage at 0x45c8298630>, None)"
      ]
     },
     "execution_count": 4,
     "metadata": {},
     "output_type": "execute_result"
    }
   ],
   "source": [
    "sudoku_color = cv.imread('sudoku_color.png',cv.IMREAD_COLOR)\n",
    "sudoku_gray = cv.imread('sudoku_color.png',0)\n",
    "plt.imshow(sudoku_color), plt.show()"
   ]
  },
  {
   "cell_type": "code",
   "execution_count": 12,
   "metadata": {},
   "outputs": [
    {
     "data": {
      "image/png": "[encoded data removed]",
      "text/plain": [
       "<matplotlib.figure.Figure at 0x45ca80f080>"
      ]
     },
     "metadata": {
      "needs_background": "light"
     },
     "output_type": "display_data"
    }
   ],
   "source": [
    "plt.imshow(sudoku_gray, cmap = 'gray', interpolation = 'bicubic')\n",
    "plt.show()"
   ]
  },
  {
   "cell_type": "code",
   "execution_count": null,
   "metadata": {},
   "outputs": [],
   "source": [
    "@ interact_manual\n",
    "def show_canny_edge(min_val=(0,255,1)):\n",
    "    edges = cv.Canny(sudoku_gray,min_val,200)   # image, min_val, max_val\n",
    "    plt.subplot(121),plt.imshow(sudoku_gray,cmap = 'gray')\n",
    "    plt.title('Original Image'), plt.xticks([]), plt.yticks([])\n",
    "    plt.subplot(122),plt.imshow(edges,cmap = 'gray')\n",
    "    plt.title('Canny Edge Image'), plt.xticks([]), plt.yticks([])\n",
    "    plt.show()\n",
    "    return"
   ]
  },
  {
   "cell_type": "code",
   "execution_count": null,
   "metadata": {},
   "outputs": [],
   "source": [
    "import numpy as np\n",
    "import cv2 as cv\n",
    "def nothing(x):\n",
    "    pass\n",
    "# Create a black image, a window\n",
    "img = np.zeros((300,512,3), np.uint8)\n",
    "cv.namedWindow('image')\n",
    "# create trackbars for color change\n",
    "cv.createTrackbar('R','image',0,255,nothing)\n",
    "cv.createTrackbar('G','image',0,255,nothing)\n",
    "cv.createTrackbar('B','image',0,255,nothing)\n",
    "# create switch for ON/OFF functionality\n",
    "switch = '0 : OFF \\n1 : ON'\n",
    "cv.createTrackbar(switch, 'image',0,1,nothing)\n",
    "while(1):\n",
    "    cv.imshow('image',img)\n",
    "    k = cv.waitKey(1) & 0xFF\n",
    "    if k == 27:\n",
    "        break\n",
    "    # get current positions of four trackbarsb\n",
    "    r = cv.getTrackbarPos('R','image')\n",
    "    g = cv.getTrackbarPos('G','image')\n",
    "    b = cv.getTrackbarPos('B','image')\n",
    "    s = cv.getTrackbarPos(switch,'image')\n",
    "    if s == 0:\n",
    "        img[:] = 0\n",
    "    else:\n",
    "        img[:] = [b,g,r]\n",
    "cv.destroyAllWindows() "
   ]
  },
  {
   "cell_type": "markdown",
   "metadata": {},
   "source": [
    "# Feature detection\n",
    "## Harris Corner Detection\n"
   ]
  },
  {
   "cell_type": "code",
   "execution_count": null,
   "metadata": {},
   "outputs": [],
   "source": [
    "#cv.cornerHarris(img_gray, block_size, k_size, k) \n",
    "# img_gray: grayscale image, float 32 type\n",
    "# block_size: size of considered pixel neighbourhood\n",
    "# k_size: aperture parameter of Sobel derivative\n",
    "# k: free parameter for Harris Detector where k is an empirically determined constant[0.04,0.06] according to Wikipedia\n",
    "\n",
    "#img_gray   # TODO: How can you find out the type of an numpy array?\n",
    "@ interact_manual(block_size=(1,10,1), k_size= (1,31,2), k= (0.04, 0.06, 0.001) )\n",
    "def harris_corners(block_size=5, k_size= 3, k= 0.06 ):\n",
    "    sudoku = sudoku_color.copy() \n",
    "    #sudoku_gray = \n",
    "    gray32 = np.float32(sudoku_gray)\n",
    "    corners = cv.cornerHarris(gray32, block_size,k_size, k)\n",
    "    \n",
    "    # dilate the corners for better contrast\n",
    "    corners = cv.dilate(corners,None)\n",
    "    \n",
    "    \n",
    "    # Threshold for an optimal value, it may vary depending on the image.\n",
    "    sudoku[corners>0.01*corners.max()]=[0,0,255]\n",
    "    \n",
    "    plt.subplot(121),plt.imshow(sudoku,cmap = 'gray')\n",
    "    plt.title('Original Image'), plt.xticks([]), plt.yticks([])\n",
    "    plt.subplot(122),plt.imshow(corners,cmap = 'gray')\n",
    "    plt.title('Harris Corner Detection'), plt.xticks([]), plt.yticks([])\n",
    "    plt.show()\n",
    "    return\n",
    "\n",
    "# TODO: k is only changing on 0.01 scale"
   ]
  },
  {
   "cell_type": "markdown",
   "metadata": {},
   "source": [
    "## Canny edge detection\n",
    "Canny edge detection is a popular multistage edge detection algorithm.\n",
    "- Stage 1: Noise Reduction\n",
    "- Stage 2: Finding intensity edge gradients of the image\n",
    "- Stage 3: Non-maximum Suppression\n",
    "- Stage 4: Hysteresis thresholding to decide which edges are really edges (minVal, maxVal)\n",
    "\n",
    "cv.Canny(img_gray, minVal, maxVal, apertureSize = 3)"
   ]
  },
  {
   "cell_type": "code",
   "execution_count": null,
   "metadata": {},
   "outputs": [],
   "source": [
    "@interact_manual(minVal=(0,255,1), maxVal=(0,255,1))\n",
    "def canny_edges(minVal=100, maxVal=200):\n",
    "    edges = cv.Canny(sudoku_gray, minVal, maxVal)\n",
    "\n",
    "    plt.subplot(121),plt.imshow(sudoku_gray,cmap = 'gray')\n",
    "    plt.title('Original Image'), plt.xticks([]), plt.yticks([])\n",
    "    plt.subplot(122),plt.imshow(edges,cmap = 'gray')\n",
    "    plt.title('Edge Image'), plt.xticks([]), plt.yticks([])\n",
    "\n",
    "    plt.show()\n",
    "    return"
   ]
  },
  {
   "cell_type": "markdown",
   "metadata": {},
   "source": [
    "## Video capture\n",
    "Using cv.VideoCapture(camera_id) requires the correct versions of ffmpeg or gstreamer."
   ]
  },
  {
   "cell_type": "code",
   "execution_count": null,
   "metadata": {},
   "outputs": [],
   "source": [
    "! conda install -c menpo ffmpeg"
   ]
  },
  {
   "cell_type": "code",
   "execution_count": null,
   "metadata": {},
   "outputs": [],
   "source": [
    "cap = cv.VideoCapture(0)\n",
    "\n",
    "while(True):\n",
    "    # Capture frame-by-frame\n",
    "    ret, frame = cap.read()\n",
    "\n",
    "    # Our operations on the frame come here\n",
    "    #gray = cv.cvtColor(frame, cv.COLOR_BGR2GRAY)\n",
    "\n",
    "    # Display the resulting frame\n",
    "    cv.imshow('frame',frame)\n",
    "    if cv.waitKey(1) & 0xFF == ord('q'):\n",
    "        break\n",
    "\n",
    "# When everything done, release the capture\n",
    "cap.release()\n",
    "cv.destroyAllWindows()"
   ]
  },
  {
   "cell_type": "markdown",
   "metadata": {},
   "source": [
    "## FAST Algorithm for corner detection\n",
    "This algorithm is suitable for realtime applications"
   ]
  },
  {
   "cell_type": "code",
   "execution_count": 11,
   "metadata": {},
   "outputs": [
    {
     "ename": "AttributeError",
     "evalue": "'cv2.FastFeatureDetector' object has no attribute 'getInt'",
     "output_type": "error",
     "traceback": [
      "\u001b[1;31m---------------------------------------------------------------------------\u001b[0m",
      "\u001b[1;31mAttributeError\u001b[0m                            Traceback (most recent call last)",
      "\u001b[1;32m<ipython-input-11-3856e405b2dc>\u001b[0m in \u001b[0;36m<module>\u001b[1;34m\u001b[0m\n\u001b[0;32m      7\u001b[0m \u001b[1;33m\u001b[0m\u001b[0m\n\u001b[0;32m      8\u001b[0m \u001b[1;31m# Print all default params\u001b[0m\u001b[1;33m\u001b[0m\u001b[1;33m\u001b[0m\u001b[1;33m\u001b[0m\u001b[0m\n\u001b[1;32m----> 9\u001b[1;33m \u001b[0mprint\u001b[0m \u001b[1;33m(\u001b[0m\u001b[1;34m\"Threshold: \"\u001b[0m\u001b[1;33m,\u001b[0m \u001b[0mfast\u001b[0m\u001b[1;33m.\u001b[0m\u001b[0mgetInt\u001b[0m\u001b[1;33m(\u001b[0m\u001b[1;34m'threshold'\u001b[0m\u001b[1;33m)\u001b[0m\u001b[1;33m)\u001b[0m\u001b[1;33m\u001b[0m\u001b[1;33m\u001b[0m\u001b[0m\n\u001b[0m\u001b[0;32m     10\u001b[0m \u001b[0mprint\u001b[0m \u001b[1;33m(\u001b[0m\u001b[1;34m\"nonmaxSuppression: \"\u001b[0m\u001b[1;33m,\u001b[0m \u001b[0mfast\u001b[0m\u001b[1;33m.\u001b[0m\u001b[0mgetBool\u001b[0m\u001b[1;33m(\u001b[0m\u001b[1;34m'nonmaxSuppression'\u001b[0m\u001b[1;33m)\u001b[0m\u001b[1;33m)\u001b[0m\u001b[1;33m\u001b[0m\u001b[1;33m\u001b[0m\u001b[0m\n\u001b[0;32m     11\u001b[0m \u001b[0mprint\u001b[0m \u001b[1;33m(\u001b[0m\u001b[1;34m\"neighborhood: \"\u001b[0m\u001b[1;33m,\u001b[0m \u001b[0mfast\u001b[0m\u001b[1;33m.\u001b[0m\u001b[0mgetInt\u001b[0m\u001b[1;33m(\u001b[0m\u001b[1;34m'type'\u001b[0m\u001b[1;33m)\u001b[0m\u001b[1;33m)\u001b[0m\u001b[1;33m\u001b[0m\u001b[1;33m\u001b[0m\u001b[0m\n",
      "\u001b[1;31mAttributeError\u001b[0m: 'cv2.FastFeatureDetector' object has no attribute 'getInt'"
     ]
    }
   ],
   "source": [
    "\n",
    "\n",
    "# Initiate FAST object with default values\n",
    "fast = cv.FastFeatureDetector_create()\n",
    "\n",
    "# find and draw the keypoints\n",
    "kp = fast.detect(sudoku_gray,None)\n",
    "img2 = cv.drawKeypoints(sudoku_gray, kp, color=(255,0,0), outImage = sudoku_gray)\n",
    "\n",
    "# Print all default params\n",
    "print (\"Threshold: \", fast.getInt('threshold'))\n",
    "print (\"nonmaxSuppression: \", fast.getBool('nonmaxSuppression'))\n",
    "print (\"neighborhood: \", fast.getInt('type'))\n",
    "print (\"Total Keypoints with nonmaxSuppression: \", len(kp))\n"
   ]
  },
  {
   "cell_type": "code",
   "execution_count": null,
   "metadata": {},
   "outputs": [],
   "source": []
  }
 ],
 "metadata": {
  "kernelspec": {
   "display_name": "Python 3",
   "language": "python",
   "name": "python3"
  },
  "language_info": {
   "codemirror_mode": {
    "name": "ipython",
    "version": 3
   },
   "file_extension": ".py",
   "mimetype": "text/x-python",
   "name": "python",
   "nbconvert_exporter": "python",
   "pygments_lexer": "ipython3",
   "version": "3.6.9"
  }
 },
 "nbformat": 4,
 "nbformat_minor": 2
}
